{
 "cells": [
  {
   "cell_type": "code",
   "execution_count": 10,
   "metadata": {},
   "outputs": [],
   "source": [
    "'''\n",
    "Created on 14 dic. 2020\n",
    "\n",
    "@author: ottod\n",
    "'''\n",
    "import regex as re\n",
    "import cv2\n",
    "import csv\n",
    "from io import open\n",
    "import pandas as pd\n",
    "from datetime import datetime\n",
    "\n",
    "if __name__ == '__main__':\n",
    "    \n",
    "    \"\"\" \n",
    " Metodos de apoyo para vertificar  \n",
    "    \n",
    "    \n",
    "    def leer_edificios():\n",
    "        \n",
    "        listaEdificios = []\n",
    "        archivoEdificios = open(\"edificios.csv\", encoding=\"utf-8\")\n",
    "        lector = csv.reader(archivoEdificios)\n",
    "        for edificio in lector:\n",
    "            for edif in edificio:\n",
    "                listaEdificios.append(edif)\n",
    "        archivoEdificios.close()\n",
    "        return listaEdificios\n",
    "    \n",
    "    def leer_logCsv():\n",
    "\"\"\"        \n",
    "    def leer_log():\n",
    "        archivo = open(\"log.txt\",\"r\")\n",
    "        lineas = archivo.readlines()\n",
    "        archivo.close()\n",
    "        return lineas\n",
    "    def lastLogLine():\n",
    "        archivo = open(\"log.txt\",\"r\")\n",
    "        lineas = archivo.readlines()\n",
    "        archivo.close()\n",
    "        if lineas:\n",
    "            return lineas[-1]\n",
    "        return False\n",
    "\n",
    "\n",
    "            \n",
    "    \n",
    "    def add_registro():\n",
    "        patron_fecha = r'(3[01]|[12][0-9]|0[1-9])[\\-\\/](0[1-9]|1[0-2])[\\-\\/](20[0-9]{2})'\n",
    "        patron_hora = r'^([01]?[0-9]|2[0-3]):([0-5][0-9]):([0-5][0-9])$'\n",
    "        patron_telefono = r'^(\\d{3})\\s?(\\d{3})\\s?(\\d{3})$'\n",
    "        patron_rutaQR = r'^.+\\.[Pp][Nn][Gg]$'\n",
    "        patron_codigoPatrimonial =  r'^(\\d{2} *[\\.\\_] *)?ED\\_?\\d{3} *[\\.\\_] *B\\d{1} *[\\.\\_] *\\-?(\\d{1,2}|(EN)|(CU)) *[\\.\\_] *\\d{3} *[\\.]? *[A-Za-z0-9]?$'\n",
    "        patron_accion = r'[iI][nN]|[oO][uU][tT]'\n",
    "        er_fecha = re.compile(patron_fecha)\n",
    "        er_hora = re.compile(patron_hora)\n",
    "        er_telefono = re.compile(patron_telefono)\n",
    "        er_rutaQR = re.compile(patron_rutaQR)\n",
    "        er_codigoPatrimonial = re.compile(patron_codigoPatrimonial)\n",
    "        er_accion = re.compile(patron_accion)\n",
    "        \n",
    "        while True:\n",
    "            fechaRegistro = input(\"Fecha: \")\n",
    "            resFecha = er_fecha.fullmatch(fechaRegistro.rstrip())\n",
    "            if resFecha:\n",
    "                fecha = resFecha.group(0)\n",
    "                if fecha.find('/') == -1:\n",
    "                    fechaInput = fecha.split('-')\n",
    "                else:\n",
    "                    fechaInput = fecha.split('/')\n",
    "                ultimaLinea = lastLogLine()\n",
    "                fechaLog_re = r'Day *(\\d{4}) *\\- *(\\d{2}) *- (\\d{2}).+(\\d{2}).+(\\d{2}).+(\\d{2}) +]'\n",
    "                dia = re.search(fechaLog_re, ultimaLinea).group(3)\n",
    "                mes = re.search(fechaLog_re, ultimaLinea).group(2)\n",
    "                anio = re.search(fechaLog_re, ultimaLinea).group(1)\n",
    "                dLog = datetime (int(anio) ,int(mes) ,int(dia))\n",
    "                dInput = datetime(int(fechaInput[2]) ,int(fechaInput[1]) ,int(fechaInput[0])) \n",
    "                if (dInput >= dLog):           \n",
    "                    break\n",
    "                else:\n",
    "                    print(\"No puede ser anterior a la ultima guardada.\\nIntentelo nuevamente..\")\n",
    "            else:\n",
    "                print(\"Fecha no válida, formato DD/MM/YYYY o DD-MM-YYYY requerido.\\nIntentelo nuevamente..\")\n",
    "        while True:\n",
    "            horaRegistro = input(\"Hora: \")\n",
    "            resHora = er_hora.fullmatch(horaRegistro.rstrip())\n",
    "            if resHora:\n",
    "                resHora_ = resHora.group(0)\n",
    "                horaLista = resHora_.split(':')\n",
    "                hora = re.search(fechaLog_re, ultimaLinea).group(4)\n",
    "                minuto= re.search(fechaLog_re, ultimaLinea).group(5)\n",
    "                segundo = re.search(fechaLog_re, ultimaLinea).group(6)\n",
    "                dLog = datetime (int(anio) ,int(mes) ,int(dia), int(hora),int(minuto),int(segundo))\n",
    "                dInput = datetime(int(fechaInput[2]) ,int(fechaInput[1]) ,int(fechaInput[0]), int(horaLista[0]), int(horaLista[1]), int(horaLista[2])) \n",
    "                if (dInput > dLog):           \n",
    "                    break\n",
    "                else:\n",
    "                    print(\"No puede ser anterior a la ultima guardada.\\nIntentelo nuevamente..\")\n",
    "                \n",
    "            else:\n",
    "                print(\"Hora no válida formato HH:MM:SS requerido.\\nIntentelo nuevamente..\")\n",
    "        while True:\n",
    "            rutaQR = input(\"Ruta QR: \")\n",
    "            texto = comprobarRutaQR(rutaQR.replace(' ',''))\n",
    "            if texto:\n",
    "                break \n",
    "            else:\n",
    "                print(\"Intentelo nuevamente...\")\n",
    "        while True:\n",
    "            telefonoRegistro = input(\"Telefono: \")\n",
    "            resTelefono = er_telefono.fullmatch(telefonoRegistro.rstrip())\n",
    "            if resTelefono:\n",
    "                break\n",
    "            else:\n",
    "                print(\"Telefono no valido.\\nIntentelo nuevamente..\")\n",
    "        while True:\n",
    "            accion = input(\"Accion: \")\n",
    "            resAccion = er_accion.fullmatch(accion.rstrip())\n",
    "            if resAccion:\n",
    "                break\n",
    "            else:\n",
    "                print(\"Accion no valida.\\nIntentelo nuevamente..\")        \n",
    "        archivo = open(\"log.txt\", \"wb\")\n",
    "        registro = str(\"[ \"+\"Day \"+resFecha.group(3)+\" - \"+resFecha.group(2)+\" - \"+resFecha.group(1)+\" , \"+resHora.group(1)+\" : \"+resHora.group(2)+\" : \"+resHora.group(3)+\" ] \"+ \"Location : \"+ texto+\" , \"+\"User : \"+resTelefono.group(1)+\" \"+resTelefono.group(2)+\" \"+resTelefono.group(3)+\" \"+accion.lower())\n",
    "        print(registro)\n",
    "        archivo.write(registro)\n",
    "        archivo.close()\n",
    "        print(\"\\nRegistro exitoso!\\n\")\n",
    "        \n",
    "    \n",
    "    def menu():\n",
    "        print (\"Selecciona una opción\")\n",
    "        print (\"\\t1 - A : Añadir registro de presencia.\")\n",
    "        print (\"\\t2 - G : Generar salida.\")\n",
    "        print (\"\\t3 - C : Control de presencia.\")\n",
    "        print (\"\\t9 - S : Salir del programa.\")\n",
    " \n",
    "\n"
   ]
  },
  {
   "cell_type": "code",
   "execution_count": 11,
   "metadata": {},
   "outputs": [],
   "source": [
    "listaEdificios = []\n",
    "archivoEdificios = open(\"edificios.csv\", encoding=\"utf-8\")\n",
    "lector = csv.reader(archivoEdificios)\n",
    "for edificio in lector:\n",
    "    for edif in edificio:\n",
    "        listaEdificios.append(edif)\n",
    "archivoEdificios.close()\n",
    "dicList = {'campus':[],'edificio':[],'nombre':[]}\n",
    "for element in listaEdificios[1:]:\n",
    "    line = element.split(';')\n",
    "    dicList['campus'].append('0'+line[0])\n",
    "    if (len(line[1])==1):\n",
    "        dicList['edificio'].append('00'+line[1])\n",
    "    elif (len(line[1])==2):\n",
    "        dicList['edificio'].append('0'+line[1])\n",
    "    else:\n",
    "        dicList['edificio'].append(line[1])\n",
    "        \n",
    "    dicList['nombre'].append(line[2])"
   ]
  },
  {
   "cell_type": "code",
   "execution_count": 12,
   "metadata": {},
   "outputs": [],
   "source": [
    "def validaLocacion(locacion):\n",
    "    campus_re = r'^\\d{2}'\n",
    "    edificio_re = r'ED(\\d{3})'\n",
    "    try:\n",
    "        campus = re.search(campus_re, locacion).group(0)\n",
    "    except:\n",
    "        campus = '0'\n",
    "    edificio = re.search(edificio_re, locacion).group(1)\n",
    "    if campus and edificio:       \n",
    "        for index, campusItem, edificioItem in zip(range(len(dicList['campus'])),dicList['campus'],dicList['edificio']):\n",
    "            if campus != '0':\n",
    "                if campus == campusItem and edificio == edificioItem:\n",
    "                    return True\n",
    "            else:\n",
    "                if edificio == edificioItem:\n",
    "                    return True\n",
    "                #print (dicList['campus'][index], dicList['edificio'][index],dicList['nombre'][index])\n",
    "    return False"
   ]
  },
  {
   "cell_type": "code",
   "execution_count": 13,
   "metadata": {},
   "outputs": [],
   "source": [
    "def encuentraCampus(locacion):\n",
    "    edificio_re = r'ED(\\d{3})'\n",
    "    edificio = re.search(edificio_re, locacion).group(1)\n",
    "    if edificio:\n",
    "        for index, edificioItem in zip(range(len(dicList['edificio'])),dicList['edificio']):\n",
    "            if edificio == edificioItem:\n",
    "                return dicList['campus'][index]\n",
    "    return False"
   ]
  },
  {
   "cell_type": "code",
   "execution_count": 14,
   "metadata": {},
   "outputs": [],
   "source": [
    "def comprobarRutaQR(ruta):\n",
    "    #Cualquier cosa que este antes de un punto y termine en png mayusculas o minusculas\n",
    "    patron_rutaQR = r'^.+\\.[Pp][Nn][Gg]$'\n",
    "    er_rutaQR = re.compile(patron_rutaQR)\n",
    "    patron_codigoPatrimonial = r'^(\\d{2} *[\\.\\_] *)?ED\\_?\\d{3} *[\\.\\_] *B\\d{1} *[\\.\\_] *\\-?(\\d{1,2}|(EN)|(CU)) *[\\.\\_] *\\d{3} *[\\.]? *[A-Za-z0-9]?$'\n",
    "    er_codigoPatrimonial = re.compile(patron_codigoPatrimonial)\n",
    "    resul = er_rutaQR.fullmatch(ruta)\n",
    "    if resul:\n",
    "        imagen = cv2.imread(ruta)\n",
    "        if imagen is None:\n",
    "            print('La imagen no existe.')   \n",
    "            return False \n",
    "        else:\n",
    "            detectorQR = cv2.QRCodeDetector()\n",
    "            texto, puntos, _ = detectorQR.detectAndDecode(imagen)\n",
    "            resul_codigo = er_codigoPatrimonial.fullmatch(texto)\n",
    "        if resul_codigo:\n",
    "            cod = resul_codigo.group(0)\n",
    "            if validaLocacion(cod):\n",
    "                return cod\n",
    "            return False\n",
    "        else:\n",
    "            campus = encuentraCampus(locacion)\n",
    "            if campus:\n",
    "                resul_codigo = er_codigoPatrimonial.fullmatch(campus+texto)\n",
    "                if resul_codigo:\n",
    "                    return True\n",
    "                return False\n",
    "    else:\n",
    "        print('Ruta QR no válida.')\n",
    "        return False \n",
    "    return False"
   ]
  },
  {
   "cell_type": "code",
   "execution_count": 6,
   "metadata": {},
   "outputs": [
    {
     "data": {
      "text/plain": [
       "'02'"
      ]
     },
     "execution_count": 6,
     "metadata": {},
     "output_type": "execute_result"
    }
   ],
   "source": [
    "encuentraCampus('02. ED094.B1 .CU.079')"
   ]
  },
  {
   "cell_type": "code",
   "execution_count": 7,
   "metadata": {},
   "outputs": [
    {
     "data": {
      "text/plain": [
       "True"
      ]
     },
     "execution_count": 7,
     "metadata": {},
     "output_type": "execute_result"
    }
   ],
   "source": [
    "validaLocacion('ED085_B1_0_010')"
   ]
  },
  {
   "cell_type": "code",
   "execution_count": 8,
   "metadata": {},
   "outputs": [
    {
     "data": {
      "text/plain": [
       "'ED085_B1_0_010'"
      ]
     },
     "execution_count": 8,
     "metadata": {},
     "output_type": "execute_result"
    }
   ],
   "source": [
    "comprobarRutaQR('./recintos/Aulario_Norte_Aula_A_01.png')"
   ]
  },
  {
   "cell_type": "code",
   "execution_count": 9,
   "metadata": {
    "scrolled": true
   },
   "outputs": [
    {
     "name": "stdout",
     "output_type": "stream",
     "text": [
      "Selecciona una opción\n",
      "\t1 - A : Añadir registro de presencia.\n",
      "\t2 - G : Generar salida.\n",
      "\t3 - C : Control de presencia.\n",
      "\t9 - S : Salir del programa.\n",
      "inserta un valor >> S\n"
     ]
    }
   ],
   "source": [
    "##Aca inicializo la lista de edificios ya que basta con que lo haga una sola vez. \n",
    "\n",
    "\n",
    "while True:\n",
    "    # Mostramos el menu\n",
    "    menu()\n",
    " \n",
    "    # solicitamos una opción al usuario\n",
    "    opcionMenu = input(\"inserta un valor >> \")\n",
    " \n",
    "    if opcionMenu==\"A\":\n",
    "        add_registro()\n",
    "        # print (\"\")\n",
    "        #input(\"Has pulsado la opción 1...\\npulsa una tecla para continuar\")\n",
    "    elif opcionMenu==\"G\":\n",
    "        print (\"\")\n",
    "        input(\"Has pulsado la opción G...\\npulsa una tecla para continuar\")\n",
    "    elif opcionMenu==\"C\":\n",
    "        print (\"\")\n",
    "        input(\"Has pulsado la opción C...\\npulsa una tecla para continuar\")\n",
    "    elif opcionMenu==\"S\":\n",
    "        break\n",
    "    else:\n",
    "        print (\"\")\n",
    "        input(\"No has pulsado ninguna opción correcta...\\npulsa una tecla para continuar\")"
   ]
  },
  {
   "cell_type": "code",
   "execution_count": 15,
   "metadata": {
    "scrolled": true
   },
   "outputs": [
    {
     "name": "stdout",
     "output_type": "stream",
     "text": [
      "Fecha: 10/10/2020\n"
     ]
    },
    {
     "ename": "IndexError",
     "evalue": "list index out of range",
     "output_type": "error",
     "traceback": [
      "\u001b[1;31m---------------------------------------------------------------------------\u001b[0m",
      "\u001b[1;31mIndexError\u001b[0m                                Traceback (most recent call last)",
      "\u001b[1;32m<ipython-input-15-c581dcea06a5>\u001b[0m in \u001b[0;36m<module>\u001b[1;34m\u001b[0m\n\u001b[1;32m----> 1\u001b[1;33m \u001b[0madd_registro\u001b[0m\u001b[1;33m(\u001b[0m\u001b[1;33m)\u001b[0m\u001b[1;33m\u001b[0m\u001b[0m\n\u001b[0m",
      "\u001b[1;32m<ipython-input-10-9810b72dc465>\u001b[0m in \u001b[0;36madd_registro\u001b[1;34m()\u001b[0m\n\u001b[0;32m     67\u001b[0m                 \u001b[1;32melse\u001b[0m\u001b[1;33m:\u001b[0m\u001b[1;33m\u001b[0m\u001b[0m\n\u001b[0;32m     68\u001b[0m                     \u001b[0mfechaInput\u001b[0m \u001b[1;33m=\u001b[0m \u001b[0mfecha\u001b[0m\u001b[1;33m.\u001b[0m\u001b[0msplit\u001b[0m\u001b[1;33m(\u001b[0m\u001b[1;34m'/'\u001b[0m\u001b[1;33m)\u001b[0m\u001b[1;33m\u001b[0m\u001b[0m\n\u001b[1;32m---> 69\u001b[1;33m                 \u001b[0multimaLinea\u001b[0m \u001b[1;33m=\u001b[0m \u001b[0mlastLogLine\u001b[0m\u001b[1;33m(\u001b[0m\u001b[1;33m)\u001b[0m\u001b[1;33m\u001b[0m\u001b[0m\n\u001b[0m\u001b[0;32m     70\u001b[0m                 \u001b[0mfechaLog_re\u001b[0m \u001b[1;33m=\u001b[0m \u001b[1;34mr'Day *(\\d{4}) *\\- *(\\d{2}) *- (\\d{2}).+(\\d{2}).+(\\d{2}).+(\\d{2}) +]'\u001b[0m\u001b[1;33m\u001b[0m\u001b[0m\n\u001b[0;32m     71\u001b[0m                 \u001b[0mdia\u001b[0m \u001b[1;33m=\u001b[0m \u001b[0mre\u001b[0m\u001b[1;33m.\u001b[0m\u001b[0msearch\u001b[0m\u001b[1;33m(\u001b[0m\u001b[0mfechaLog_re\u001b[0m\u001b[1;33m,\u001b[0m \u001b[0multimaLinea\u001b[0m\u001b[1;33m)\u001b[0m\u001b[1;33m.\u001b[0m\u001b[0mgroup\u001b[0m\u001b[1;33m(\u001b[0m\u001b[1;36m3\u001b[0m\u001b[1;33m)\u001b[0m\u001b[1;33m\u001b[0m\u001b[0m\n",
      "\u001b[1;32m<ipython-input-10-9810b72dc465>\u001b[0m in \u001b[0;36mlastLogLine\u001b[1;34m()\u001b[0m\n\u001b[0;32m     39\u001b[0m         \u001b[0mlineas\u001b[0m \u001b[1;33m=\u001b[0m \u001b[0marchivo\u001b[0m\u001b[1;33m.\u001b[0m\u001b[0mreadlines\u001b[0m\u001b[1;33m(\u001b[0m\u001b[1;33m)\u001b[0m\u001b[1;33m\u001b[0m\u001b[0m\n\u001b[0;32m     40\u001b[0m         \u001b[0marchivo\u001b[0m\u001b[1;33m.\u001b[0m\u001b[0mclose\u001b[0m\u001b[1;33m(\u001b[0m\u001b[1;33m)\u001b[0m\u001b[1;33m\u001b[0m\u001b[0m\n\u001b[1;32m---> 41\u001b[1;33m         \u001b[1;32mreturn\u001b[0m \u001b[0mlineas\u001b[0m\u001b[1;33m[\u001b[0m\u001b[1;33m-\u001b[0m\u001b[1;36m1\u001b[0m\u001b[1;33m]\u001b[0m\u001b[1;33m\u001b[0m\u001b[0m\n\u001b[0m\u001b[0;32m     42\u001b[0m \u001b[1;33m\u001b[0m\u001b[0m\n\u001b[0;32m     43\u001b[0m \u001b[1;33m\u001b[0m\u001b[0m\n",
      "\u001b[1;31mIndexError\u001b[0m: list index out of range"
     ]
    }
   ],
   "source": [
    "add_registro()\n"
   ]
  },
  {
   "cell_type": "code",
   "execution_count": 2,
   "metadata": {},
   "outputs": [
    {
     "data": {
      "text/plain": [
       "True"
      ]
     },
     "execution_count": 2,
     "metadata": {},
     "output_type": "execute_result"
    }
   ],
   "source": [
    "dLog = datetime (10,10,10,10,10,10)\n",
    "dInput = datetime(10,10,10,10,11) \n",
    "dInput > dLog\n"
   ]
  }
 ],
 "metadata": {
  "kernelspec": {
   "display_name": "Python 3",
   "language": "python",
   "name": "python3"
  },
  "language_info": {
   "codemirror_mode": {
    "name": "ipython",
    "version": 3
   },
   "file_extension": ".py",
   "mimetype": "text/x-python",
   "name": "python",
   "nbconvert_exporter": "python",
   "pygments_lexer": "ipython3",
   "version": "3.6.0"
  }
 },
 "nbformat": 4,
 "nbformat_minor": 2
}
